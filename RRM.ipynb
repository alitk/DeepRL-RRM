{
  "nbformat": 4,
  "nbformat_minor": 0,
  "metadata": {
    "colab": {
      "name": "WSPmin.ipynb",
      "version": "0.3.2",
      "provenance": [],
      "collapsed_sections": [],
      "include_colab_link": true
    },
    "kernelspec": {
      "name": "python3",
      "display_name": "Python 3"
    }
  },
  "cells": [
    {
      "cell_type": "markdown",
      "metadata": {
        "id": "view-in-github",
        "colab_type": "text"
      },
      "source": [
        "[View in Colaboratory](https://colab.research.google.com/github/alitk/DeepRL-RRM/blob/master/WSPmin.ipynb)"
      ]
    },
    {
      "metadata": {
        "id": "US9cOzr8OiTH",
        "colab_type": "code",
        "colab": {
          "base_uri": "https://localhost:8080/",
          "height": 90
        },
        "outputId": "be52845a-a56f-4ecb-8ad0-e07a340f90e8"
      },
      "cell_type": "code",
      "source": [
        "import pdb\n",
        "import math \n",
        "import numpy as np\n",
        "from math import sqrt\n",
        "class comm_channel:\n",
        "    #this class is with assumption of power equal to 1 watts for all users. \n",
        "\n",
        "    p=1\n",
        "    c=3e8\n",
        "    def __init__(self,sigma2dBmHz=-173.9,B=180e3,cell_radius=3e3,freq=900e6,\n",
        "               BW=10e6,path_loss_exponent=3,packet_length=10e3,CSI_mu=1,\n",
        "               num_UE=5,num_MTD=5,packet_size=1e3):\n",
        "        self.num_UE=num_UE\n",
        "        self.num_MTD=num_MTD\n",
        "        self.num_users=num_MTD+num_UE\n",
        "        self.sigma2dBmHz=sigma2dBmHz # noise variance in dBm/Hz\n",
        "        self.B=B #RB BW\n",
        "        self.cell_radius=cell_radius # Downlink cell radius\n",
        "        self.freq=freq # working frequency\n",
        "        self.BW=BW #bandwidth\n",
        "        self.path_loss_exponent=path_loss_exponent\n",
        "        self.packet_length=packet_length\n",
        "        self.num_RB=math.floor(BW/B); #Number of Resource blocks\n",
        "        self.CSI_mu=CSI_mu  # channel gains hij^2 are exponential with mean CSI_mu.\n",
        "        self.W=np.ones((self.num_users,1));\n",
        "        self.hij=np.random.exponential(scale=1.0,size=(self.num_users,\n",
        "                                                       self.num_RB))\n",
        "        self.packet_size=packet_size\n",
        "\n",
        "\n",
        "\n",
        "    def create(self):\n",
        "        channel_wavelength=self.c/self.freq\n",
        "        sigma2dBm=self.sigma2dBmHz+10*math.log10(self.B)\n",
        "        sigma2=10**(sigma2dBm/10)*1e-3 # sigma 2 in Watts\n",
        "        bound=np.ones((self.num_users,1))*self.cell_radius/2\n",
        "        # this is for a squared shape cell\n",
        "        x=np.random.uniform(-bound,+bound)\n",
        "        y=np.random.uniform(-bound,+bound)\n",
        "        d=np.sqrt(np.power(x,2)+np.power(y,2))\n",
        "        path_loss=(channel_wavelength/(4*math.pi))**2*np.power(d,-self.path_loss_exponent)\n",
        "        self.cij=np.diag(path_loss.T.squeeze())@self.hij/sigma2 # rate is equal to math.log((1+cij),2_)\n",
        "        self.rates=np.squeeze(self.B*np.log2(1+self.p*self.cij))\n",
        "        self.packet_rates=self.rates/self.packet_size\n",
        "  \n",
        "\n",
        "\n",
        "    def Recursive_eval_WSPmin(self,lambda_el,arrival_rate):\n",
        "\n",
        "        constant=np.divide(self.B,self.W)*lambda_el/np.log(2)\n",
        "        constant_Matrix=np.tile(constant, (1,self.num_RB))\n",
        "        lambda_matrix=np.tile(lambda_el, (1,self.num_RB))\n",
        "        W_matrix=np.tile(self.W, (1,self.num_RB))\n",
        "\n",
        "        pij_eval=np.maximum(constant_Matrix-1/self.cij,0)\n",
        "        g_j_lambda=W_matrix*pij_eval-lambda_matrix*(self.B*np.log2(1+pij_eval*self.cij))\n",
        "        m=np.amin(g_j_lambda,axis=0)\n",
        "        I=np.argmin(g_j_lambda,axis=0)\n",
        "        g_labmda=0\n",
        "        pij=np.zeros(self.cij.shape)\n",
        "        for j in range(0,self.num_RB):\n",
        "            pij[I[j],j]=pij_eval[I[j],j]\n",
        "            g_labmda=g_labmda+m[j]\n",
        "        \n",
        "            \n",
        "            \n",
        "\n",
        "        y=g_labmda+lambda_el*arrival_rate\n",
        "        \n",
        "\n",
        "\n",
        "        return y,pij\n",
        "\n",
        "\n",
        "\n",
        "    def maximize_lambda_ellipsoid_WSPmin(self,arrival_rate,pij,lambda_el,\n",
        "                                        P_eig=2e3):\n",
        "        \n",
        "        \"\"\"\n",
        "            P: is the vvalue of eigenvalues of initial ellipsoids. \n",
        "            lambda_el is the ellipsoid lambda.\n",
        "            cij: a mixture of channel gain path loss and channel noise\n",
        "\n",
        "        \"\"\"\n",
        "        n=np.size(pij,0)\n",
        "        P=P_eig*np.identity(n) # this is initial ellipsoid\n",
        "        users_rate=np.sum((self.B*np.log2(1+pij*self.cij)),axis=1)\n",
        "        users_rate=np.expand_dims(users_rate,axis=1)\n",
        "        g=users_rate-arrival_rate\n",
        "        c=0\n",
        "        Data=np.array([])\n",
        "        while sqrt((g.T@P@g)[0][0])>1e-5:\n",
        "            out,pij=self.Recursive_eval_WSPmin(lambda_el,arrival_rate)\n",
        "            users_rate=np.sum((self.B*np.log2(1+pij*self.cij)),axis=1)\n",
        "            users_rate=np.expand_dims(users_rate,axis=1)\n",
        "            g=users_rate-arrival_rate\n",
        "            gT=g/sqrt(g.T@P@g)\n",
        "            lambda_el=lambda_el-1/(n+1)*P@gT\n",
        "            lambda_el=np.maximum(lambda_el,0)\n",
        "            P=n**2/(n**2-1)*(P-2/(n+1)*P@gT@gT.T@P)\n",
        "            c=c+1\n",
        "            \n",
        "            \n",
        "              \n",
        "            Data=np.append(Data,lambda_el)\n",
        "            \n",
        "        \n",
        "        return lambda_el,pij,Data\n",
        "\n",
        "        \n",
        "\n",
        "\n",
        "\n"
      ],
      "execution_count": 19,
      "outputs": [
        {
          "output_type": "execute_result",
          "data": {
            "text/plain": [
              "array([1056754.14600974, 1007226.09337116, 1002124.57730758,\n",
              "        989563.08430028,  954567.25337328, 1001026.8070249 ,\n",
              "       1000759.78275033, 1085499.05249501,  912925.52579402,\n",
              "        972196.33412779])"
            ]
          },
          "metadata": {
            "tags": []
          },
          "execution_count": 19
        }
      ]
    },
    {
      "metadata": {
        "id": "9EucBvLQcIvk",
        "colab_type": "code",
        "colab": {
          "base_uri": "https://localhost:8080/",
          "height": 35
        },
        "outputId": "8acdba25-0004-450a-8cf8-11032e5712fe"
      },
      "cell_type": "code",
      "source": [
        "a=comm_channel()\n",
        "a.create()\n",
        "arrival_rate=1e6*np.ones((a.num_users,1))\n",
        "lambda_el=np.zeros((a.num_users,1))\n",
        "pij=np.zeros(a.cij.shape)\n",
        "lambda_el=1/3\n",
        "lambda_el,pij,Data=a.maximize_lambda_ellipsoid_WSPmin(arrival_rate,pij,lambda_el);\n",
        "\n",
        "#y,pij=a.Recursive_eval_WSPmin(lambda_el,arrival_rate)\n",
        "np.sum(pij,axis=1)\n",
        "users_rate=np.sum((a.B*np.log2(1+pij*a.cij)),axis=1)\n"
      ],
      "execution_count": 0,
      "outputs": [
        {
          "output_type": "execute_result",
          "data": {
            "text/plain": [
              "1859.00195714651"
            ]
          },
          "metadata": {
            "tags": []
          },
          "execution_count": 51
        }
      ]
    },
    {
      "metadata": {
        "id": "qU3Kt47QkvY8",
        "colab_type": "code",
        "colab": {
          "base_uri": "https://localhost:8080/",
          "height": 365
        },
        "outputId": "7a81b334-196f-4f94-87e7-a7b458262bb3"
      },
      "cell_type": "code",
      "source": [
        "from matplotlib import pyplot as plt\n",
        "plt.plot(Data)\n",
        "min(Data)\n",
        "Data.shape"
      ],
      "execution_count": 10,
      "outputs": [
        {
          "output_type": "execute_result",
          "data": {
            "text/plain": [
              "(51860,)"
            ]
          },
          "metadata": {
            "tags": []
          },
          "execution_count": 10
        },
        {
          "output_type": "display_data",
          "data": {
            "image/png": "[encoded data removed]",
            "text/plain": [
              "<matplotlib.figure.Figure at 0x7f9df3812fd0>"
            ]
          },
          "metadata": {
            "tags": []
          }
        }
      ]
    }
  ]
}
